{
 "cells": [
  {
   "cell_type": "code",
   "execution_count": 45,
   "metadata": {},
   "outputs": [],
   "source": [
    "import matplotlib.pylab as plt"
   ]
  },
  {
   "cell_type": "code",
   "execution_count": 30,
   "metadata": {},
   "outputs": [],
   "source": [
    "quizdata = [\n",
    "    \"การเก็บข้อมูลผู้ใช้โดยการเข้ารหัสข้อมูลในการเข้าถึง\" ,\n",
    "    \"การขอคำยินยอมทางกฏหมาย[ ถ้าเป็นประเทศไทย เป็น PDPA ]\",\n",
    "    \"ระบุวัตถุประสงค์ในการเก็บข้อมูล \",\n",
    "    \"คำยินการเก็บคุกกี้ หรือ locในระบบ\",\n",
    "    \"ความเชื่อถือของที่เก็บข้อมูล\",\n",
    "]\n",
    "quizshare=[\n",
    "    \"การแชร์ข้อมูลให้กับภาครัฐตามที่ระบุไว้ในข้อตกลง\",\n",
    "    \"การแชร์ข้อมูลจะเปิดเผยได้กับแค่บริษัท\",\n",
    "    \"การแชร์ข้อมูลไปตามกฏหมายหรือก็คือในกรณีฉุกเฉิกจะต้องมีหมายมาถึงจะเปิดเผยได้\",\n",
    "]\n",
    "quizusedata =[\n",
    "    \"เป็นไปตามวัตถุประสงค์ที่ขอคำยินยอมทางกฏหมาย\",\n",
    "    \"การนำข้อมูลไปเพื่อการปรับปรุงระบบเท่านั้น\",\n",
    "    \"ระดับเข้าถึงข้อมูลต้องมียินยอมโดยบริษัทที่เก็บข้อมูล\",\n",
    "]\n",
    "quitsecurity = [\n",
    "    \"มีการกำหนดสิทธิ์ในการเข้าถึงข้อมูล\",\n",
    "    \"มีการขออนุญาติก่อนแก้ไขข้อมูล\",\n",
    "    \"มียืนยันตัวตนว่าไม่ใช้คอมพิวเตอร์\",\n",
    "    \"มีการทำลาย session อย่างถูกต้องหลัง logout, timeout\",\n",
    "    \"มีการใช้งาน Software Repository ที่เชื่อถือได้เท่านั้น\",\n",
    "    \"มีแยก server ที่ต้องมีการ fetch ข้อมูลออกไปอยู่คนละ network\",\n",
    "    \"มีการจำนวนการใช้ port ที่เหมาะสม \",\n",
    "    \"มีการอัพเดทฐานข้อมูล เดือน 1 จนไปถึง สัปดาห์ 1 เป็นอย่างน้อย\",\n",
    "]"
   ]
  },
  {
   "cell_type": "code",
   "execution_count": 82,
   "metadata": {},
   "outputs": [
    {
     "name": "stdout",
     "output_type": "stream",
     "text": [
      "Quiz Data:\n",
      "1 การเก็บข้อมูลผู้ใช้โดยการเข้ารหัสข้อมูลในการเข้าถึง\n"
     ]
    },
    {
     "name": "stdin",
     "output_type": "stream",
     "text": [
      "\tyes(1) or no(0)\n",
      "Ans: 1\n"
     ]
    },
    {
     "name": "stdout",
     "output_type": "stream",
     "text": [
      "2 การขอคำยินยอมทางกฏหมาย[ ถ้าเป็นประเทศไทย เป็น PDPA ]\n"
     ]
    },
    {
     "name": "stdin",
     "output_type": "stream",
     "text": [
      "\tyes(1) or no(0)\n",
      "Ans: 1\n"
     ]
    },
    {
     "name": "stdout",
     "output_type": "stream",
     "text": [
      "3 ระบุวัตถุประสงค์ในการเก็บข้อมูล \n"
     ]
    },
    {
     "name": "stdin",
     "output_type": "stream",
     "text": [
      "\tyes(1) or no(0)\n",
      "Ans: 1\n"
     ]
    },
    {
     "name": "stdout",
     "output_type": "stream",
     "text": [
      "4 คำยินการเก็บคุกกี้ หรือ locในระบบ\n"
     ]
    },
    {
     "name": "stdin",
     "output_type": "stream",
     "text": [
      "\tyes(1) or no(0)\n",
      "Ans: 1\n"
     ]
    },
    {
     "name": "stdout",
     "output_type": "stream",
     "text": [
      "5 ความเชื่อถือของที่เก็บข้อมูล\n"
     ]
    },
    {
     "name": "stdin",
     "output_type": "stream",
     "text": [
      "\tyes(1) or no(0)\n",
      "Ans: 1\n"
     ]
    },
    {
     "name": "stdout",
     "output_type": "stream",
     "text": [
      "\n",
      "Quiz Share:\n",
      "1 การแชร์ข้อมูลให้กับภาครัฐตามที่ระบุไว้ในข้อตกลง\n"
     ]
    },
    {
     "name": "stdin",
     "output_type": "stream",
     "text": [
      "\tyes(1) or no(0)\n",
      "Ans: 1\n"
     ]
    },
    {
     "name": "stdout",
     "output_type": "stream",
     "text": [
      "2 การแชร์ข้อมูลจะเปิดเผยได้กับแค่บริษัท\n"
     ]
    },
    {
     "name": "stdin",
     "output_type": "stream",
     "text": [
      "\tyes(1) or no(0)\n",
      "Ans: 1\n"
     ]
    },
    {
     "name": "stdout",
     "output_type": "stream",
     "text": [
      "3 การแชร์ข้อมูลไปตามกฏหมายหรือก็คือในกรณีฉุกเฉิกจะต้องมีหมายมาถึงจะเปิดเผยได้\n"
     ]
    },
    {
     "name": "stdin",
     "output_type": "stream",
     "text": [
      "\tyes(1) or no(0)\n",
      "Ans: 1\n"
     ]
    },
    {
     "name": "stdout",
     "output_type": "stream",
     "text": [
      "\n",
      "Quiz Use Data:\n",
      "1 เป็นไปตามวัตถุประสงค์ที่ขอคำยินยอมทางกฏหมาย\n"
     ]
    },
    {
     "name": "stdin",
     "output_type": "stream",
     "text": [
      "\tyes(1) or no(0)\n",
      "Ans: 1\n"
     ]
    },
    {
     "name": "stdout",
     "output_type": "stream",
     "text": [
      "2 การนำข้อมูลไปเพื่อการปรับปรุงระบบเท่านั้น\n"
     ]
    },
    {
     "name": "stdin",
     "output_type": "stream",
     "text": [
      "\tyes(1) or no(0)\n",
      "Ans: 1\n"
     ]
    },
    {
     "name": "stdout",
     "output_type": "stream",
     "text": [
      "3 ระดับเข้าถึงข้อมูลต้องมียินยอมโดยบริษัทที่เก็บข้อมูล\n"
     ]
    },
    {
     "name": "stdin",
     "output_type": "stream",
     "text": [
      "\tyes(1) or no(0)\n",
      "Ans: 1\n"
     ]
    },
    {
     "name": "stdout",
     "output_type": "stream",
     "text": [
      "\n",
      "Quit Security:\n",
      "1 มีการกำหนดสิทธิ์ในการเข้าถึงข้อมูล\n"
     ]
    },
    {
     "name": "stdin",
     "output_type": "stream",
     "text": [
      "\tyes(1) or no(0)\n",
      "Ans: 1\n"
     ]
    },
    {
     "name": "stdout",
     "output_type": "stream",
     "text": [
      "2 มีการขออนุญาติก่อนแก้ไขข้อมูล\n"
     ]
    },
    {
     "name": "stdin",
     "output_type": "stream",
     "text": [
      "\tyes(1) or no(0)\n",
      "Ans: 1\n"
     ]
    },
    {
     "name": "stdout",
     "output_type": "stream",
     "text": [
      "3 มียืนยันตัวตนว่าไม่ใช้คอมพิวเตอร์\n"
     ]
    },
    {
     "name": "stdin",
     "output_type": "stream",
     "text": [
      "\tyes(1) or no(0)\n",
      "Ans: 1\n"
     ]
    },
    {
     "name": "stdout",
     "output_type": "stream",
     "text": [
      "4 มีการทำลาย session อย่างถูกต้องหลัง logout, timeout\n"
     ]
    },
    {
     "name": "stdin",
     "output_type": "stream",
     "text": [
      "\tyes(1) or no(0)\n",
      "Ans: 1\n"
     ]
    },
    {
     "name": "stdout",
     "output_type": "stream",
     "text": [
      "5 มีการใช้งาน Software Repository ที่เชื่อถือได้เท่านั้น\n"
     ]
    },
    {
     "name": "stdin",
     "output_type": "stream",
     "text": [
      "\tyes(1) or no(0)\n",
      "Ans: 1\n"
     ]
    },
    {
     "name": "stdout",
     "output_type": "stream",
     "text": [
      "6 มีแยก server ที่ต้องมีการ fetch ข้อมูลออกไปอยู่คนละ network\n"
     ]
    },
    {
     "name": "stdin",
     "output_type": "stream",
     "text": [
      "\tyes(1) or no(0)\n",
      "Ans: 1\n"
     ]
    },
    {
     "name": "stdout",
     "output_type": "stream",
     "text": [
      "7 มีการจำนวนการใช้ port ที่เหมาะสม \n"
     ]
    },
    {
     "name": "stdin",
     "output_type": "stream",
     "text": [
      "\tyes(1) or no(0)\n",
      "Ans: 1\n"
     ]
    },
    {
     "name": "stdout",
     "output_type": "stream",
     "text": [
      "8 มีการอัพเดทฐานข้อมูล เดือน 1 จนไปถึง สัปดาห์ 1 เป็นอย่างน้อย\n"
     ]
    },
    {
     "name": "stdin",
     "output_type": "stream",
     "text": [
      "\tyes(1) or no(0)\n",
      "Ans: 0\n"
     ]
    },
    {
     "name": "stdout",
     "output_type": "stream",
     "text": [
      "\n",
      "คะแนนในแต่ละด้าน\n",
      "\n",
      "การเก็บข้อมูล (data)(เต็ม51) :  100.00 %\n",
      "การใช้ข้อมูล (share)(เต็ม3) :  100.00 %\n",
      "การแชร์ข้อมูล (usedata)(เต็ม3) :  100.00 %\n",
      "ความปลอดภัย (security)(เต็ม8) :  87.50 %\n",
      "\n"
     ]
    },
    {
     "data": {
      "image/png": "[encoded data removed]",
      "text/plain": [
       "<Figure size 400x400 with 1 Axes>"
      ]
     },
     "metadata": {},
     "output_type": "display_data"
    }
   ],
   "source": [
    "i=0\n",
    "scorequizdata = 0\n",
    "scorequizshare = 0\n",
    "scorequizusedata =0\n",
    "scorequitsecurity= 0\n",
    "error = 0\n",
    "if error == 0: \n",
    "    print(\"Quiz Data:\")\n",
    "    for item in quizdata:\n",
    "        i+=1\n",
    "        print(i, item)\n",
    "        a = input(\"\\tyes(1) or no(0)\\nAns:\")\n",
    "        if a.lower() in [\"yes\", \"y\", \"1\"]:\n",
    "               scorequizdata += 1 \n",
    "        elif a.lower() in [\"no\",\"n\",\"0\"]:\n",
    "            scorequizdata += 0\n",
    "        elif a.lower not in[\"yes\", \"y\", \"1\",\"no\",\"n\",\"0\"]:\n",
    "            error = 1\n",
    "            break\n",
    "if error == 0:    \n",
    "    i=0\n",
    "    print(\"\\nQuiz Share:\")\n",
    "    for item in quizshare:\n",
    "        i+=1\n",
    "        print(i, item)\n",
    "        a = input(\"\\tyes(1) or no(0)\\nAns:\")\n",
    "        if a.lower() in [\"yes\", \"y\", \"1\"]:\n",
    "               scorequizshare += 1 \n",
    "        elif a.lower() in [\"no\",\"n\",\"0\"]:\n",
    "            scorequizdata += 0\n",
    "        elif a.lower not in[\"yes\", \"y\", \"1\",\"no\",\"n\",\"0\"]:\n",
    "            error = 1\n",
    "            break\n",
    "if error == 0:    \n",
    "    i=0\n",
    "    print(\"\\nQuiz Use Data:\")\n",
    "    for item in quizusedata:\n",
    "        i+=1\n",
    "        print(i, item)\n",
    "        a = input(\"\\tyes(1) or no(0)\\nAns:\")\n",
    "        if a.lower() in [\"yes\", \"y\", \"1\"]:\n",
    "               scorequizusedata += 1 \n",
    "        elif a.lower() in [\"no\",\"n\",\"0\"]:\n",
    "            scorequizdata += 0\n",
    "        elif a.lower not in[\"yes\", \"y\", \"1\",\"no\",\"n\",\"0\"]:\n",
    "            error = 1\n",
    "            break\n",
    "if error == 0:                \n",
    "    i=0\n",
    "    print(\"\\nQuit Security:\")\n",
    "    for item in quitsecurity:\n",
    "        i+=1\n",
    "        print(i, item)\n",
    "        a = input(\"\\tyes(1) or no(0)\\nAns:\")\n",
    "        if a.lower() in [\"yes\", \"y\", \"1\"]:\n",
    "              scorequitsecurity += 1 \n",
    "        elif a.lower() in [\"no\",\"n\",\"0\"]:\n",
    "            scorequizdata += 0\n",
    "        elif a.lower not in[\"yes\", \"y\", \"1\",\"no\",\"n\",\"0\"]:\n",
    "            error = 1\n",
    "            break\n",
    "if error == 0:\n",
    "    scorequizdata = (scorequizdata/5)*100\n",
    "    scorequizshare = (scorequizshare/3)*100\n",
    "    scorequizusedata = (scorequizusedata/3)*100\n",
    "    scorequitsecurity = (scorequitsecurity/8)*100\n",
    "\n",
    "    scorequizdata = \"{:.2f}\".format(scorequizdata)\n",
    "    scorequizshare = \"{:.2f}\".format(scorequizshare)\n",
    "    scorequizusedata = \"{:.2f}\".format(scorequizusedata)\n",
    "    scorequitsecurity = \"{:.2f}\".format(scorequitsecurity)\n",
    "    \n",
    "   print(\"\\nคะแนนในแต่ละด้าน\\n\")\n",
    "    print(\"การเก็บข้อมูล (data)(เต็ม51) : \", scorequizdata,\"%\")\n",
    "    print(\"การใช้ข้อมูล (share)(เต็ม3) : \", scorequizshare,\"%\")\n",
    "    print(\"การแชร์ข้อมูล (usedata)(เต็ม3) : \", scorequizusedata,\"%\")\n",
    "    print(\"ความปลอดภัย (security)(เต็ม8) : \", scorequitsecurity,\"%\\n\")\n",
    "    labels = ['data', 'share', 'usedata', 'security']\n",
    "\n",
    "    scores = [scorequizdata, scorequizshare, scorequizusedata, scorequitsecurity]\n",
    "\n",
    "    plt.figure(figsize=(4, 4))\n",
    "    plt.pie(scores, labels=labels, autopct='%1.1f%%', startangle=140)\n",
    "    plt.title('SCORES PRIVACY POLICY')\n",
    "    plt.axis('equal')  \n",
    "    plt.show()\n",
    "else:\n",
    "    print(\"Error\")"
   ]
  },
  {
   "cell_type": "code",
   "execution_count": null,
   "metadata": {},
   "outputs": [],
   "source": []
  }
 ],
 "metadata": {
  "kernelspec": {
   "display_name": "Python 3 (ipykernel)",
   "language": "python",
   "name": "python3"
  },
  "language_info": {
   "codemirror_mode": {
    "name": "ipython",
    "version": 3
   },
   "file_extension": ".py",
   "mimetype": "text/x-python",
   "name": "python",
   "nbconvert_exporter": "python",
   "pygments_lexer": "ipython3",
   "version": "3.11.5"
  }
 },
 "nbformat": 4,
 "nbformat_minor": 4
}
